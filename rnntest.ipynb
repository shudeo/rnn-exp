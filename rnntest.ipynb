{
 "cells": [
  {
   "cell_type": "code",
   "execution_count": 1,
   "metadata": {},
   "outputs": [],
   "source": [
    "import numpy as np"
   ]
  },
  {
   "cell_type": "code",
   "execution_count": 2,
   "metadata": {},
   "outputs": [],
   "source": [
    "def sigmoid(x):\n",
    "    return 1/(1+np.exp(-x))"
   ]
  },
  {
   "cell_type": "code",
   "execution_count": 3,
   "metadata": {},
   "outputs": [],
   "source": [
    "def dsigmoid(s):\n",
    "    return s*(1-s)"
   ]
  },
  {
   "cell_type": "code",
   "execution_count": 4,
   "metadata": {},
   "outputs": [],
   "source": [
    "def tanh(x):\n",
    "    return np.tanh(x)"
   ]
  },
  {
   "cell_type": "code",
   "execution_count": 5,
   "metadata": {},
   "outputs": [],
   "source": [
    "def dtanh(x):\n",
    "    return 1.0 - np.tanh(x) ** 2"
   ]
  },
  {
   "cell_type": "code",
   "execution_count": null,
   "metadata": {},
   "outputs": [],
   "source": [
    "class RNN():\n",
    "    def __init__(self, input_size, hidden_size, output_size, lr) -> None:\n",
    "        self.Wxh = np.random.randn(hidden_size, input_size) * 0.25\n",
    "        self.Whh = np.random.randn(hidden_size, hidden_size) * 0.25\n",
    "        self.Why = np.random.randn(output_size, input_size) * 0.25\n",
    "        self.bh = np.zeros((hidden_size, 1))\n",
    "        self.by = np.zeros((output_size, 1))\n",
    "        self.lr = lr\n",
    "\n",
    "    def forward(self, x, return_h = False):\n",
    "        h = np.zeros((self.hidden_size, 1))\n",
    "        for t in range(len(x)):\n",
    "            h = tanh(np.dot(self.Wxh, x[t]) + np.dot(self.Whh, h) + self.bh)\n",
    "        y_hat = np.dot(self.Why, h) + self.by\n",
    "        if return_h:\n",
    "            return y_hat, h\n",
    "        else:\n",
    "            return y_hat\n",
    "        \n",
    "    def loss(y, y_true):\n",
    "        return 0.5 * (np.sum((y-y_true)**2))\n",
    "    \n",
    "    def backward(self, x, y, y_true, h):\n",
    "        dWxh = np.zeros_like(self.Wxh)\n",
    "        dWhh = np.zeros_like(self.Whh)\n",
    "        dWhy = np.zeros_like(self.Why)\n",
    "        dbh = np.zeros_like(self.bh)\n",
    "        dby = np.zeros_like(self.by)\n",
    "        dhh = np.zeros_like(h)\n",
    "\n",
    "        dy = y - y_true\n",
    "        dWhy = np.dot(dy, h.T)\n",
    "        dby = dy\n",
    "\n",
    "        for t in reversed(range(len(x))):\n",
    "            dh = np.dot(self.Why.T, dy) + dhh\n",
    "            dh_ = dtanh(h) * dh\n",
    "            dbh += dh_\n",
    "\n",
    "            dx = np.dot(self.Wxh.T, dh_)\n",
    "            dWxh += np.dot(dh_, x[t].T)\n",
    "\n",
    "            dhh = np.dot(self.Whh.T, dh_)\n",
    "            dWhh += np.dot(dh_, h.T)\n",
    "\n",
    "        return dWxh, dWhh, dWhy, dbh, dby\n",
    "    \n",
    "    def update(self, dWxh, dWhh, dWhy, dbh, dby):\n",
    "        self.Wxh += self.lr * dWxh\n",
    "        self.Whh += self.lr * dWhh\n",
    "        self.Why += self.lr * dWhy\n",
    "        self.bh += self.lr * dbh\n",
    "        self.by += self.lr * dby\n",
    "\n",
    "    def predict(y_hat):\n",
    "        return y_hat"
   ]
  }
 ],
 "metadata": {
  "kernelspec": {
   "display_name": "Python 3",
   "language": "python",
   "name": "python3"
  },
  "language_info": {
   "codemirror_mode": {
    "name": "ipython",
    "version": 3
   },
   "file_extension": ".py",
   "mimetype": "text/x-python",
   "name": "python",
   "nbconvert_exporter": "python",
   "pygments_lexer": "ipython3",
   "version": "3.10.10"
  },
  "orig_nbformat": 4
 },
 "nbformat": 4,
 "nbformat_minor": 2
}
